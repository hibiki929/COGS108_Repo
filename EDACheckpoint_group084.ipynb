{
 "cells": [
  {
   "cell_type": "markdown",
   "metadata": {},
   "source": [
    "# COGS 108 - EDA Checkpoint"
   ]
  },
  {
   "cell_type": "markdown",
   "metadata": {},
   "source": [
    "# Names\n",
    "\n",
    "- Lily Yu\n",
    "- Sophia Alonso\n",
    "- Kelly Tran\n",
    "- Yining Wang"
   ]
  },
  {
   "cell_type": "markdown",
   "metadata": {},
   "source": [
    "<a id='research_question'></a>\n",
    "# Research Question"
   ]
  },
  {
   "cell_type": "markdown",
   "metadata": {},
   "source": [
    "How has remote learning during the COVID-19 pandemic affected San Diego/UCSD students’ grades and learning experience?"
   ]
  },
  {
   "cell_type": "markdown",
   "metadata": {},
   "source": [
    "# Setup"
   ]
  },
  {
   "cell_type": "code",
   "execution_count": 55,
   "metadata": {},
   "outputs": [],
   "source": [
    "## YOUR CODE HERE\n",
    "import pandas as pd\n",
    "import matplotlib.pyplot as plt"
   ]
  },
  {
   "cell_type": "code",
   "execution_count": 4,
   "metadata": {},
   "outputs": [
    {
     "data": {
      "text/html": [
       "<div>\n",
       "<style scoped>\n",
       "    .dataframe tbody tr th:only-of-type {\n",
       "        vertical-align: middle;\n",
       "    }\n",
       "\n",
       "    .dataframe tbody tr th {\n",
       "        vertical-align: top;\n",
       "    }\n",
       "\n",
       "    .dataframe thead th {\n",
       "        text-align: right;\n",
       "    }\n",
       "</style>\n",
       "<table border=\"1\" class=\"dataframe\">\n",
       "  <thead>\n",
       "    <tr style=\"text-align: right;\">\n",
       "      <th></th>\n",
       "      <th>Instructor</th>\n",
       "      <th>Course</th>\n",
       "      <th>Term</th>\n",
       "      <th>Enroll</th>\n",
       "      <th>Evals Made</th>\n",
       "      <th>Rcmnd Class</th>\n",
       "      <th>Rcmnd Instr</th>\n",
       "      <th>Study Hrs/wk</th>\n",
       "      <th>Avg Grade Expected</th>\n",
       "      <th>Avg Grade Received</th>\n",
       "    </tr>\n",
       "  </thead>\n",
       "  <tbody>\n",
       "    <tr>\n",
       "      <th>0</th>\n",
       "      <td>Jones, Ian William Nasser</td>\n",
       "      <td>ANAR 120 - Documenting Climate Change (A)</td>\n",
       "      <td>FA20</td>\n",
       "      <td>15</td>\n",
       "      <td>4</td>\n",
       "      <td>100.0%</td>\n",
       "      <td>100.0%</td>\n",
       "      <td>2.50</td>\n",
       "      <td>B+ (3.50)</td>\n",
       "      <td>NaN</td>\n",
       "    </tr>\n",
       "    <tr>\n",
       "      <th>1</th>\n",
       "      <td>Smith, Neil Gordon</td>\n",
       "      <td>ANAR 121 - Cyber-Archaeology (A)</td>\n",
       "      <td>FA20</td>\n",
       "      <td>17</td>\n",
       "      <td>6</td>\n",
       "      <td>100.0%</td>\n",
       "      <td>100.0%</td>\n",
       "      <td>6.50</td>\n",
       "      <td>A (4.00)</td>\n",
       "      <td>NaN</td>\n",
       "    </tr>\n",
       "    <tr>\n",
       "      <th>2</th>\n",
       "      <td>D'Alpoim Guedes, Jade A</td>\n",
       "      <td>ANAR 146 - Feeding the World (A)</td>\n",
       "      <td>FA20</td>\n",
       "      <td>41</td>\n",
       "      <td>16</td>\n",
       "      <td>100.0%</td>\n",
       "      <td>100.0%</td>\n",
       "      <td>4.00</td>\n",
       "      <td>A- (3.81)</td>\n",
       "      <td>A- (3.79)</td>\n",
       "    </tr>\n",
       "    <tr>\n",
       "      <th>3</th>\n",
       "      <td>Fox, Patrick Keolu Ozer</td>\n",
       "      <td>ANBI 118 - Technology on the Go (A)</td>\n",
       "      <td>FA20</td>\n",
       "      <td>20</td>\n",
       "      <td>15</td>\n",
       "      <td>93.3%</td>\n",
       "      <td>100.0%</td>\n",
       "      <td>2.77</td>\n",
       "      <td>B+ (3.67)</td>\n",
       "      <td>A- (3.77)</td>\n",
       "    </tr>\n",
       "    <tr>\n",
       "      <th>4</th>\n",
       "      <td>Fox, Patrick Keolu Ozer</td>\n",
       "      <td>ANBI 121 - Polynesian Navigation (A)</td>\n",
       "      <td>FA20</td>\n",
       "      <td>14</td>\n",
       "      <td>10</td>\n",
       "      <td>100.0%</td>\n",
       "      <td>100.0%</td>\n",
       "      <td>2.72</td>\n",
       "      <td>B+ (3.67)</td>\n",
       "      <td>NaN</td>\n",
       "    </tr>\n",
       "  </tbody>\n",
       "</table>\n",
       "</div>"
      ],
      "text/plain": [
       "                  Instructor                                     Course  Term  \\\n",
       "0  Jones, Ian William Nasser  ANAR 120 - Documenting Climate Change (A)  FA20   \n",
       "1         Smith, Neil Gordon           ANAR 121 - Cyber-Archaeology (A)  FA20   \n",
       "2    D'Alpoim Guedes, Jade A           ANAR 146 - Feeding the World (A)  FA20   \n",
       "3    Fox, Patrick Keolu Ozer        ANBI 118 - Technology on the Go (A)  FA20   \n",
       "4    Fox, Patrick Keolu Ozer       ANBI 121 - Polynesian Navigation (A)  FA20   \n",
       "\n",
       "   Enroll  Evals Made Rcmnd Class Rcmnd Instr  Study Hrs/wk  \\\n",
       "0      15           4      100.0%      100.0%          2.50   \n",
       "1      17           6      100.0%      100.0%          6.50   \n",
       "2      41          16      100.0%      100.0%          4.00   \n",
       "3      20          15       93.3%      100.0%          2.77   \n",
       "4      14          10      100.0%      100.0%          2.72   \n",
       "\n",
       "  Avg Grade Expected Avg Grade Received  \n",
       "0          B+ (3.50)                NaN  \n",
       "1           A (4.00)                NaN  \n",
       "2          A- (3.81)          A- (3.79)  \n",
       "3          B+ (3.67)          A- (3.77)  \n",
       "4          B+ (3.67)                NaN  "
      ]
     },
     "execution_count": 4,
     "metadata": {},
     "output_type": "execute_result"
    }
   ],
   "source": [
    "capes = pd.read_csv(\"CAPES_data.csv\")\n",
    "capes.head()"
   ]
  },
  {
   "cell_type": "markdown",
   "metadata": {},
   "source": [
    "# Data Cleaning"
   ]
  },
  {
   "cell_type": "markdown",
   "metadata": {},
   "source": [
    "Describe your data cleaning steps here."
   ]
  },
  {
   "cell_type": "code",
   "execution_count": 50,
   "metadata": {},
   "outputs": [],
   "source": [
    "#TODO: Investigate columns dropped more\n",
    "capes.dropna(inplace = True)\n",
    "\n",
    "def standardize_grades(text):\n",
    "#Handle if function has already been run\n",
    "   \n",
    "    if type(text) == float:\n",
    "        return text\n",
    "  \n",
    "   #Keep all text after last parentheses open\n",
    "    grade = text.split(\"(\")[-1]\n",
    "  \n",
    "   #Cut off trailing parentheses close\n",
    "    grade = grade.replace(\")\", \"\")\n",
    "  \n",
    "   #Convert to float\n",
    "    grade = float(grade)\n",
    "  \n",
    "    return grade\n",
    "\n",
    "#Convert both grade columns to floats\n",
    "capes[\"Avg Grade Expected\"] = capes[\"Avg Grade Expected\"].apply(standardize_grades)\n",
    "capes[\"Avg Grade Received\"] = capes[\"Avg Grade Received\"].apply(standardize_grades)\n",
    "\n",
    "#capes[\"Avg Grade Received\"].unique()\n",
    "\n",
    "#capes[\"Rcmnd Class\"].unique()\n",
    "\n",
    "def standardize_recommendations(text):\n",
    "#Handle if function has already been run\n",
    "   if type(text) == float:\n",
    "        return text\n",
    "  \n",
    "   pct = text.replace(\"%\", \"\")\n",
    "  \n",
    "   pct = float(pct)\n",
    "  \n",
    "   return pct\n",
    "\n",
    "def extract_term(text):\n",
    "    TERMS = { \"WI\": 1, \"SP\": 2, \"S1\": 3, \"S2\": 4, \"S3\": 5, \"FA\": 6}\n",
    "  \n",
    "    term = text[:2]\n",
    "    term = TERMS[term]\n",
    "  \n",
    "    return term\n",
    "\n",
    "def extract_year(text):\n",
    "  \n",
    "    year = text[2:]\n",
    "    year = int(\"20\" + year)\n",
    "  \n",
    "    return year\n",
    "#Convert both recommend percent columns to floats\n",
    "capes[\"Rcmnd Class\"] = capes[\"Rcmnd Class\"].apply(standardize_recommendations)\n",
    "capes[\"Rcmnd Instr\"] = capes[\"Rcmnd Instr\"].apply(standardize_recommendations)\n",
    "capes['Term_num'] = capes['Term'].apply(extract_term)\n",
    "capes['Year'] = capes['Term'].apply(extract_year)"
   ]
  },
  {
   "cell_type": "markdown",
   "metadata": {},
   "source": [
    "# Data Analysis & Results (EDA)"
   ]
  },
  {
   "cell_type": "markdown",
   "metadata": {},
   "source": [
    "Carry out EDA on your dataset(s); Describe in this section"
   ]
  },
  {
   "cell_type": "code",
   "execution_count": 25,
   "metadata": {},
   "outputs": [
    {
     "data": {
      "text/html": [
       "<div>\n",
       "<style scoped>\n",
       "    .dataframe tbody tr th:only-of-type {\n",
       "        vertical-align: middle;\n",
       "    }\n",
       "\n",
       "    .dataframe tbody tr th {\n",
       "        vertical-align: top;\n",
       "    }\n",
       "\n",
       "    .dataframe thead th {\n",
       "        text-align: right;\n",
       "    }\n",
       "</style>\n",
       "<table border=\"1\" class=\"dataframe\">\n",
       "  <thead>\n",
       "    <tr style=\"text-align: right;\">\n",
       "      <th></th>\n",
       "      <th>Test</th>\n",
       "      <th>Year</th>\n",
       "      <th>Percentile</th>\n",
       "      <th>Total</th>\n",
       "      <th>ERW</th>\n",
       "      <th>Math</th>\n",
       "      <th>Reading</th>\n",
       "      <th>Writing and Language</th>\n",
       "      <th>Math.1</th>\n",
       "      <th>History/Social Studies</th>\n",
       "      <th>Science</th>\n",
       "    </tr>\n",
       "  </thead>\n",
       "  <tbody>\n",
       "    <tr>\n",
       "      <th>0</th>\n",
       "      <td>SAT</td>\n",
       "      <td>2020</td>\n",
       "      <td>75th</td>\n",
       "      <td>1200</td>\n",
       "      <td>600</td>\n",
       "      <td>600</td>\n",
       "      <td>30</td>\n",
       "      <td>30</td>\n",
       "      <td>30.0</td>\n",
       "      <td>30</td>\n",
       "      <td>30</td>\n",
       "    </tr>\n",
       "    <tr>\n",
       "      <th>1</th>\n",
       "      <td>SAT</td>\n",
       "      <td>2020</td>\n",
       "      <td>50th</td>\n",
       "      <td>1030</td>\n",
       "      <td>520</td>\n",
       "      <td>520</td>\n",
       "      <td>26</td>\n",
       "      <td>26</td>\n",
       "      <td>26.0</td>\n",
       "      <td>26</td>\n",
       "      <td>26</td>\n",
       "    </tr>\n",
       "    <tr>\n",
       "      <th>2</th>\n",
       "      <td>SAT</td>\n",
       "      <td>2020</td>\n",
       "      <td>25th</td>\n",
       "      <td>880</td>\n",
       "      <td>440</td>\n",
       "      <td>430</td>\n",
       "      <td>22</td>\n",
       "      <td>22</td>\n",
       "      <td>21.5</td>\n",
       "      <td>23</td>\n",
       "      <td>22</td>\n",
       "    </tr>\n",
       "    <tr>\n",
       "      <th>3</th>\n",
       "      <td>SAT</td>\n",
       "      <td>2019</td>\n",
       "      <td>75th</td>\n",
       "      <td>1210</td>\n",
       "      <td>610</td>\n",
       "      <td>610</td>\n",
       "      <td>29</td>\n",
       "      <td>31</td>\n",
       "      <td>30.5</td>\n",
       "      <td>30</td>\n",
       "      <td>31</td>\n",
       "    </tr>\n",
       "    <tr>\n",
       "      <th>4</th>\n",
       "      <td>SAT</td>\n",
       "      <td>2019</td>\n",
       "      <td>50th</td>\n",
       "      <td>1050</td>\n",
       "      <td>530</td>\n",
       "      <td>520</td>\n",
       "      <td>25</td>\n",
       "      <td>26</td>\n",
       "      <td>26.0</td>\n",
       "      <td>27</td>\n",
       "      <td>27</td>\n",
       "    </tr>\n",
       "  </tbody>\n",
       "</table>\n",
       "</div>"
      ],
      "text/plain": [
       "  Test  Year Percentile  Total  ERW  Math  Reading  Writing and Language  \\\n",
       "0  SAT  2020       75th   1200  600   600       30                    30   \n",
       "1  SAT  2020       50th   1030  520   520       26                    26   \n",
       "2  SAT  2020       25th    880  440   430       22                    22   \n",
       "3  SAT  2019       75th   1210  610   610       29                    31   \n",
       "4  SAT  2019       50th   1050  530   520       25                    26   \n",
       "\n",
       "   Math.1  History/Social Studies  Science  \n",
       "0    30.0                      30       30  \n",
       "1    26.0                      26       26  \n",
       "2    21.5                      23       22  \n",
       "3    30.5                      30       31  \n",
       "4    26.0                      27       27  "
      ]
     },
     "execution_count": 25,
     "metadata": {},
     "output_type": "execute_result"
    }
   ],
   "source": [
    "## YOUR CODE HERE\n",
    "## FEEL FREE TO ADD MULTIPLE CELLS PER SECTION\n",
    " \n",
    "scores = pd.read_csv(\"SAT_PSAT.csv\")\n",
    "scores.head()"
   ]
  },
  {
   "cell_type": "code",
   "execution_count": 24,
   "metadata": {},
   "outputs": [
    {
     "data": {
      "text/plain": [
       "<matplotlib.axes._subplots.AxesSubplot at 0x7f1a19c509d0>"
      ]
     },
     "execution_count": 24,
     "metadata": {},
     "output_type": "execute_result"
    },
    {
     "data": {
      "image/png": "[encoded data removed]",
      "text/plain": [
       "<Figure size 432x288 with 1 Axes>"
      ]
     },
     "metadata": {
      "needs_background": "light"
     },
     "output_type": "display_data"
    }
   ],
   "source": [
    "#Boxplot for PSAT/SAT scores for all years\n",
    "scores.boxplot(by = [\"Year\", \"Test\"], column = [\"Total\"], grid = False)\n"
   ]
  },
  {
   "cell_type": "code",
   "execution_count": 19,
   "metadata": {},
   "outputs": [
    {
     "data": {
      "text/plain": [
       "<matplotlib.axes._subplots.AxesSubplot at 0x7f1a19cc9bd0>"
      ]
     },
     "execution_count": 19,
     "metadata": {},
     "output_type": "execute_result"
    },
    {
     "data": {
      "image/png": "[encoded data removed]",
      "text/plain": [
       "<Figure size 432x288 with 1 Axes>"
      ]
     },
     "metadata": {
      "needs_background": "light"
     },
     "output_type": "display_data"
    }
   ],
   "source": [
    "#Boxplot for specific categories of PSAT/SAT exams\n",
    "scores.boxplot(by = [\"Year\", \"Test\"], column = [\"ERW\"], grid = False) \n",
    "scores.boxplot(by = [\"Year\", \"Test\"], column = [\"Math\"], grid = False) \n",
    " "
   ]
  },
  {
   "cell_type": "code",
   "execution_count": 23,
   "metadata": {},
   "outputs": [
    {
     "name": "stdout",
     "output_type": "stream",
     "text": [
      "<bound method Series.mean of 2        3.79\n",
      "3        3.77\n",
      "5        2.99\n",
      "6        3.87\n",
      "9        3.91\n",
      "         ... \n",
      "49055    3.46\n",
      "49059    3.45\n",
      "49060    3.33\n",
      "49062    3.40\n",
      "49063    3.45\n",
      "Name: Avg Grade Received, Length: 904, dtype: float64>\n"
     ]
    },
    {
     "data": {
      "text/plain": [
       "<matplotlib.axes._subplots.AxesSubplot at 0x7f1a19cf1d50>"
      ]
     },
     "execution_count": 23,
     "metadata": {},
     "output_type": "execute_result"
    },
    {
     "data": {
      "image/png": "[encoded data removed]",
      "text/plain": [
       "<Figure size 432x288 with 1 Axes>"
      ]
     },
     "metadata": {
      "needs_background": "light"
     },
     "output_type": "display_data"
    }
   ],
   "source": [
    "#Boxplot for FA20 avg grades#Mean of FA20 avg grades\n",
    "FA20_data = capes[capes[\"Term\"].str.contains(\"FA20\")]\n",
    "FA20_mean = FA20_data[\"Avg Grade Received\"].mean\n",
    "print(FA20_mean)\n",
    "FA20_data.boxplot(by = \"Term\", column = [\"Avg Grade Received\"], grid = False)"
   ]
  },
  {
   "cell_type": "code",
   "execution_count": 17,
   "metadata": {},
   "outputs": [
    {
     "name": "stdout",
     "output_type": "stream",
     "text": [
      "<bound method Series.mean of 2        3.79\n",
      "3        3.77\n",
      "5        2.99\n",
      "6        3.87\n",
      "9        3.91\n",
      "         ... \n",
      "49055    3.46\n",
      "49059    3.45\n",
      "49060    3.33\n",
      "49062    3.40\n",
      "49063    3.45\n",
      "Name: Avg Grade Received, Length: 904, dtype: float64>\n"
     ]
    },
    {
     "data": {
      "text/plain": [
       "<matplotlib.axes._subplots.AxesSubplot at 0x7f1a19f67610>"
      ]
     },
     "execution_count": 17,
     "metadata": {},
     "output_type": "execute_result"
    },
    {
     "data": {
      "image/png": "[encoded data removed]",
      "text/plain": [
       "<Figure size 432x288 with 1 Axes>"
      ]
     },
     "metadata": {
      "needs_background": "light"
     },
     "output_type": "display_data"
    }
   ],
   "source": [
    "#Boxplot for S220 avg grades\n",
    "#Mean of S220 avg grades\n",
    "S220_data = capes[capes[\"Term\"].str.contains(\"S220\")]\n",
    "S220_mean = S220_data[\"Avg Grade Received\"].mean\n",
    "print(S220_mean)\n",
    "S220_data.boxplot(by = \"Term\", column = [\"Avg Grade Received\"], grid = False)"
   ]
  },
  {
   "cell_type": "code",
   "execution_count": 22,
   "metadata": {},
   "outputs": [
    {
     "name": "stdout",
     "output_type": "stream",
     "text": [
      "<bound method Series.mean of 39       3.78\n",
      "40       3.83\n",
      "43       3.38\n",
      "44       3.36\n",
      "45       3.76\n",
      "         ... \n",
      "47445    3.73\n",
      "47446    3.99\n",
      "47447    3.67\n",
      "47448    3.70\n",
      "47449    3.74\n",
      "Name: Avg Grade Received, Length: 243, dtype: float64>\n"
     ]
    },
    {
     "data": {
      "text/plain": [
       "<matplotlib.axes._subplots.AxesSubplot at 0x7f1a1a115990>"
      ]
     },
     "execution_count": 22,
     "metadata": {},
     "output_type": "execute_result"
    },
    {
     "data": {
      "image/png": "[encoded data removed]",
      "text/plain": [
       "<Figure size 432x288 with 1 Axes>"
      ]
     },
     "metadata": {
      "needs_background": "light"
     },
     "output_type": "display_data"
    }
   ],
   "source": [
    "#Boxplot for S120 avg grades#Mean of S120 avg grades\n",
    "S120_data = capes[capes[\"Term\"].str.contains(\"S120\")]\n",
    "S120_mean = S120_data[\"Avg Grade Received\"].mean\n",
    "print(S120_mean)\n",
    "S120_data.boxplot(by = \"Term\", column = [\"Avg Grade Received\"], grid = False)"
   ]
  },
  {
   "cell_type": "code",
   "execution_count": 21,
   "metadata": {},
   "outputs": [
    {
     "name": "stdout",
     "output_type": "stream",
     "text": [
      "<bound method Series.mean of 49       3.78\n",
      "50       3.91\n",
      "54       3.68\n",
      "55       3.87\n",
      "56       3.84\n",
      "         ... \n",
      "47494    3.35\n",
      "49077    4.00\n",
      "49078    4.00\n",
      "49081    3.64\n",
      "49082    3.49\n",
      "Name: Avg Grade Received, Length: 887, dtype: float64>\n"
     ]
    },
    {
     "data": {
      "text/plain": [
       "<matplotlib.axes._subplots.AxesSubplot at 0x7f1a1ca204d0>"
      ]
     },
     "execution_count": 21,
     "metadata": {},
     "output_type": "execute_result"
    },
    {
     "data": {
      "image/png": "[encoded data removed]",
      "text/plain": [
       "<Figure size 432x288 with 1 Axes>"
      ]
     },
     "metadata": {
      "needs_background": "light"
     },
     "output_type": "display_data"
    }
   ],
   "source": [
    "#Boxplot for SP20 avg grades#Mean of SP20 avg grades\n",
    "SP20_data = capes[capes[\"Term\"].str.contains(\"SP20\")]\n",
    "SP20_mean = SP20_data[\"Avg Grade Received\"].mean\n",
    "print(SP20_mean)\n",
    "SP20_data.boxplot(by = \"Term\", column = [\"Avg Grade Received\"], grid = False)"
   ]
  },
  {
   "cell_type": "code",
   "execution_count": 20,
   "metadata": {
    "scrolled": true
   },
   "outputs": [
    {
     "name": "stdout",
     "output_type": "stream",
     "text": [
      "<bound method Series.mean of 49       3.78\n",
      "50       3.91\n",
      "54       3.68\n",
      "55       3.87\n",
      "56       3.84\n",
      "         ... \n",
      "47494    3.35\n",
      "49077    4.00\n",
      "49078    4.00\n",
      "49081    3.64\n",
      "49082    3.49\n",
      "Name: Avg Grade Received, Length: 887, dtype: float64>\n"
     ]
    },
    {
     "data": {
      "text/plain": [
       "<matplotlib.axes._subplots.AxesSubplot at 0x7f1a19ad3190>"
      ]
     },
     "execution_count": 20,
     "metadata": {},
     "output_type": "execute_result"
    },
    {
     "data": {
      "image/png": "[encoded data removed]",
      "text/plain": [
       "<Figure size 432x288 with 1 Axes>"
      ]
     },
     "metadata": {
      "needs_background": "light"
     },
     "output_type": "display_data"
    }
   ],
   "source": [
    "#Boxplot for WI20 avg grades#Mean of WI20 avg grades\n",
    "WI20_data = capes[capes[\"Term\"].str.contains(\"WI20\")]\n",
    "WI20_mean = WI20_data[\"Avg Grade Received\"].mean\n",
    "print(WI20_mean)\n",
    "WI20_data.boxplot(by = \"Term\", column = [\"Avg Grade Received\"], grid = False)"
   ]
  },
  {
   "cell_type": "code",
   "execution_count": 56,
   "metadata": {},
   "outputs": [
    {
     "data": {
      "text/plain": [
       "<matplotlib.legend.Legend at 0x7f19d8b231d0>"
      ]
     },
     "execution_count": 56,
     "metadata": {},
     "output_type": "execute_result"
    },
    {
     "data": {
      "image/png": "[encoded data removed]",
      "text/plain": [
       "<Figure size 432x288 with 1 Axes>"
      ]
     },
     "metadata": {
      "needs_background": "light"
     },
     "output_type": "display_data"
    }
   ],
   "source": [
    "pre_covid_rcmnd_class = capes[capes['Year'] < 2020]['Rcmnd Class']\n",
    "pre_covid_rcmnd_class = pre_covid_rcmnd_class.append(capes[(capes['Year'] == 2020) & (capes['Term_num'] <= 2)]['Rcmnd Class'])\n",
    "covid_rcmnd_class = capes[(capes['Year'] == 2020) & (capes['Term_num'] > 2)]['Rcmnd Class']\n",
    "plt.hist(pre_covid_rcmnd_class, alpha = 0.4, label = \"Pre-Covid Recommend Class\", density = True, bins = 30)\n",
    "plt.hist(covid_rcmnd_class, alpha = 0.4, label = \"Covid Recommend Class\", density = True, bins = 30)\n",
    "plt.title(\"Histogram of Recommend Class before/after\")\n",
    "plt.legend()\n",
    "\n",
    "             "
   ]
  },
  {
   "cell_type": "code",
   "execution_count": null,
   "metadata": {},
   "outputs": [],
   "source": []
  }
 ],
 "metadata": {
  "kernelspec": {
   "display_name": "Python 3",
   "language": "python",
   "name": "python3"
  },
  "language_info": {
   "codemirror_mode": {
    "name": "ipython",
    "version": 3
   },
   "file_extension": ".py",
   "mimetype": "text/x-python",
   "name": "python",
   "nbconvert_exporter": "python",
   "pygments_lexer": "ipython3",
   "version": "3.7.6"
  }
 },
 "nbformat": 4,
 "nbformat_minor": 2
}
